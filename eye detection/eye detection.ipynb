{
 "cells": [
  {
   "cell_type": "code",
   "execution_count": null,
   "id": "cd44959d",
   "metadata": {},
   "outputs": [],
   "source": [
    "\n",
    "import cv2\n",
    " \n",
    "eye_detect = cv2.CascadeClassifier('C:\\\\Users\\\\mayuk\\\\Downloads\\\\haarcascade_eye.xml')\n",
    " \n",
    "cam = cv2.VideoCapture(0)\n",
    " \n",
    "while True:\n",
    "     \n",
    "    resp, frame = cam.read()\n",
    "     \n",
    "    if resp==0:\n",
    "        break\n",
    "         \n",
    "    # Convert color image into grayscale\n",
    "    gray_img = cv2.cvtColor(frame, cv2.COLOR_BGR2GRAY)\n",
    "     \n",
    "    eyes = eye_detect.detectMultiScale(gray_img, 1.3, 7)\n",
    "     \n",
    "    # Draw rectangle around the faces\n",
    "    for (x,y,w,h) in eyes:\n",
    "        cv2.rectangle(frame, (x,y), (x+w, y+h), (0,0,255), 3)\n",
    "     \n",
    "    cv2.imshow('Live Eye Detection', frame)  \n",
    "  \n",
    "    if cv2.waitKey(1) & 0xFF == ord('q'):\n",
    "        break\n",
    "  \n",
    "cam.release()\n",
    " \n",
    "\n",
    "cv2.destroyAllWindows()"
   ]
  },
  {
   "cell_type": "code",
   "execution_count": null,
   "id": "7a7b0bd6",
   "metadata": {},
   "outputs": [],
   "source": []
  }
 ],
 "metadata": {
  "kernelspec": {
   "display_name": "Python 3 (ipykernel)",
   "language": "python",
   "name": "python3"
  },
  "language_info": {
   "codemirror_mode": {
    "name": "ipython",
    "version": 3
   },
   "file_extension": ".py",
   "mimetype": "text/x-python",
   "name": "python",
   "nbconvert_exporter": "python",
   "pygments_lexer": "ipython3",
   "version": "3.9.12"
  }
 },
 "nbformat": 4,
 "nbformat_minor": 5
}
